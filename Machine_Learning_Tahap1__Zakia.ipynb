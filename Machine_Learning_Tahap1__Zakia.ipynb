{
  "nbformat": 4,
  "nbformat_minor": 0,
  "metadata": {
    "colab": {
      "name": "Machine Learning_Tahap1_ Zakia.ipynb",
      "provenance": [],
      "collapsed_sections": []
    },
    "kernelspec": {
      "display_name": "Python 3",
      "name": "python3"
    },
    "language_info": {
      "name": "python"
    }
  },
  "cells": [
    {
      "cell_type": "markdown",
      "metadata": {
        "id": "r1JRG9q23cUr"
      },
      "source": [
        "#ZAKIA SYAHRINI\n",
        "#IF-43-10\n",
        "#1301194108\n",
        "\n",
        "Setiap mahasiswa harus mengerjakan dua task (clustering dan classification) terhadap\n",
        "dataset pada link gdrive: https://drive.google.com/drive/folders/14QPe3o6LeSjfYjkGhCZJM4pn-I55YsJ?usp=sharing. Tugas clustering (unsupervised Learning) adalah\n",
        "mengelompokkan pelanggan berdasarkan data pelanggan di dealer tanpa\n",
        "memperhatikan label kelas apakah pelanggan tertarik untuk membeli kendaraan baru\n",
        "atau tidak."
      ]
    },
    {
      "cell_type": "code",
      "metadata": {
        "id": "hpCo_x07PrwS"
      },
      "source": [
        "#MASUKKAN LIBRARY\n",
        "import numpy as np\n",
        "import pandas as pd\n",
        "import matplotlib.pyplot as plt\n",
        "import matplotlib as mpl\n",
        "import seaborn as sns\n",
        "from sklearn.decomposition import PCA\n",
        "from sklearn.preprocessing import MinMaxScaler\n",
        "from sklearn.cluster import KMeans\n",
        "from sklearn import metrics\n",
        "from scipy.spatial.distance import cdist\n",
        "\n"
      ],
      "execution_count": 1,
      "outputs": []
    },
    {
      "cell_type": "code",
      "metadata": {
        "id": "AWWOWDhHmMlm",
        "colab": {
          "base_uri": "https://localhost:8080/"
        },
        "outputId": "1323998f-8b0f-4190-82e4-4aef7a2adfe1"
      },
      "source": [
        "#DOWNLOAD DATA KENDARAAN_TRAIN\n",
        "!gdown --id 1VAFV-soyTtaUx8k1sWR1kkCtuDA_yX3V"
      ],
      "execution_count": 2,
      "outputs": [
        {
          "output_type": "stream",
          "name": "stdout",
          "text": [
            "Downloading...\n",
            "From: https://drive.google.com/uc?id=1VAFV-soyTtaUx8k1sWR1kkCtuDA_yX3V\n",
            "To: /content/kendaraan_train.xlsx\n",
            "\r  0% 0.00/14.3M [00:00<?, ?B/s]\r100% 14.3M/14.3M [00:00<00:00, 123MB/s]\n"
          ]
        }
      ]
    },
    {
      "cell_type": "code",
      "metadata": {
        "id": "8fIlyBnKsAYk",
        "colab": {
          "base_uri": "https://localhost:8080/",
          "height": 424
        },
        "outputId": "f7c2c376-185f-4b13-805f-b5296d3867bd"
      },
      "source": [
        "#BACA DATA KENDARAAN_TRAIN\n",
        "data1 = pd.read_excel(\"kendaraan_train.xlsx\",  usecols = ['Jenis_Kelamin', 'Umur', 'Kode_Daerah','Sudah_Asuransi','Umur_Kendaraan','Kendaraan_Rusak','Premi','Kanal_Penjualan','Lama_Berlangganan','Tertarik'])\n",
        "data1"
      ],
      "execution_count": 3,
      "outputs": [
        {
          "output_type": "execute_result",
          "data": {
            "text/html": [
              "<div>\n",
              "<style scoped>\n",
              "    .dataframe tbody tr th:only-of-type {\n",
              "        vertical-align: middle;\n",
              "    }\n",
              "\n",
              "    .dataframe tbody tr th {\n",
              "        vertical-align: top;\n",
              "    }\n",
              "\n",
              "    .dataframe thead th {\n",
              "        text-align: right;\n",
              "    }\n",
              "</style>\n",
              "<table border=\"1\" class=\"dataframe\">\n",
              "  <thead>\n",
              "    <tr style=\"text-align: right;\">\n",
              "      <th></th>\n",
              "      <th>Jenis_Kelamin</th>\n",
              "      <th>Umur</th>\n",
              "      <th>Kode_Daerah</th>\n",
              "      <th>Sudah_Asuransi</th>\n",
              "      <th>Umur_Kendaraan</th>\n",
              "      <th>Kendaraan_Rusak</th>\n",
              "      <th>Premi</th>\n",
              "      <th>Kanal_Penjualan</th>\n",
              "      <th>Lama_Berlangganan</th>\n",
              "      <th>Tertarik</th>\n",
              "    </tr>\n",
              "  </thead>\n",
              "  <tbody>\n",
              "    <tr>\n",
              "      <th>0</th>\n",
              "      <td>Wanita</td>\n",
              "      <td>30.0</td>\n",
              "      <td>33.0</td>\n",
              "      <td>1.0</td>\n",
              "      <td>&lt; 1 Tahun</td>\n",
              "      <td>&lt; 1 Tahun</td>\n",
              "      <td>28029.0</td>\n",
              "      <td>152.0</td>\n",
              "      <td>97.0</td>\n",
              "      <td>0</td>\n",
              "    </tr>\n",
              "    <tr>\n",
              "      <th>1</th>\n",
              "      <td>Pria</td>\n",
              "      <td>48.0</td>\n",
              "      <td>39.0</td>\n",
              "      <td>0.0</td>\n",
              "      <td>&gt; 2 Tahun</td>\n",
              "      <td>Pernah</td>\n",
              "      <td>25800.0</td>\n",
              "      <td>29.0</td>\n",
              "      <td>158.0</td>\n",
              "      <td>0</td>\n",
              "    </tr>\n",
              "    <tr>\n",
              "      <th>2</th>\n",
              "      <td>NaN</td>\n",
              "      <td>21.0</td>\n",
              "      <td>46.0</td>\n",
              "      <td>1.0</td>\n",
              "      <td>&lt; 1 Tahun</td>\n",
              "      <td>Tidak</td>\n",
              "      <td>32733.0</td>\n",
              "      <td>160.0</td>\n",
              "      <td>119.0</td>\n",
              "      <td>0</td>\n",
              "    </tr>\n",
              "    <tr>\n",
              "      <th>3</th>\n",
              "      <td>Wanita</td>\n",
              "      <td>58.0</td>\n",
              "      <td>48.0</td>\n",
              "      <td>0.0</td>\n",
              "      <td>1-2 Tahun</td>\n",
              "      <td>Tidak</td>\n",
              "      <td>2630.0</td>\n",
              "      <td>124.0</td>\n",
              "      <td>63.0</td>\n",
              "      <td>0</td>\n",
              "    </tr>\n",
              "    <tr>\n",
              "      <th>4</th>\n",
              "      <td>Pria</td>\n",
              "      <td>50.0</td>\n",
              "      <td>35.0</td>\n",
              "      <td>0.0</td>\n",
              "      <td>&gt; 2 Tahun</td>\n",
              "      <td>NaN</td>\n",
              "      <td>34857.0</td>\n",
              "      <td>88.0</td>\n",
              "      <td>194.0</td>\n",
              "      <td>0</td>\n",
              "    </tr>\n",
              "    <tr>\n",
              "      <th>...</th>\n",
              "      <td>...</td>\n",
              "      <td>...</td>\n",
              "      <td>...</td>\n",
              "      <td>...</td>\n",
              "      <td>...</td>\n",
              "      <td>...</td>\n",
              "      <td>...</td>\n",
              "      <td>...</td>\n",
              "      <td>...</td>\n",
              "      <td>...</td>\n",
              "    </tr>\n",
              "    <tr>\n",
              "      <th>285826</th>\n",
              "      <td>Wanita</td>\n",
              "      <td>23.0</td>\n",
              "      <td>4.0</td>\n",
              "      <td>1.0</td>\n",
              "      <td>&lt; 1 Tahun</td>\n",
              "      <td>Tidak</td>\n",
              "      <td>25988.0</td>\n",
              "      <td>152.0</td>\n",
              "      <td>217.0</td>\n",
              "      <td>0</td>\n",
              "    </tr>\n",
              "    <tr>\n",
              "      <th>285827</th>\n",
              "      <td>Wanita</td>\n",
              "      <td>21.0</td>\n",
              "      <td>46.0</td>\n",
              "      <td>1.0</td>\n",
              "      <td>&lt; 1 Tahun</td>\n",
              "      <td>Tidak</td>\n",
              "      <td>44686.0</td>\n",
              "      <td>152.0</td>\n",
              "      <td>50.0</td>\n",
              "      <td>0</td>\n",
              "    </tr>\n",
              "    <tr>\n",
              "      <th>285828</th>\n",
              "      <td>Wanita</td>\n",
              "      <td>23.0</td>\n",
              "      <td>50.0</td>\n",
              "      <td>1.0</td>\n",
              "      <td>&lt; 1 Tahun</td>\n",
              "      <td>Tidak</td>\n",
              "      <td>49751.0</td>\n",
              "      <td>152.0</td>\n",
              "      <td>226.0</td>\n",
              "      <td>0</td>\n",
              "    </tr>\n",
              "    <tr>\n",
              "      <th>285829</th>\n",
              "      <td>Pria</td>\n",
              "      <td>68.0</td>\n",
              "      <td>7.0</td>\n",
              "      <td>1.0</td>\n",
              "      <td>1-2 Tahun</td>\n",
              "      <td>Tidak</td>\n",
              "      <td>30503.0</td>\n",
              "      <td>124.0</td>\n",
              "      <td>270.0</td>\n",
              "      <td>0</td>\n",
              "    </tr>\n",
              "    <tr>\n",
              "      <th>285830</th>\n",
              "      <td>Pria</td>\n",
              "      <td>45.0</td>\n",
              "      <td>28.0</td>\n",
              "      <td>0.0</td>\n",
              "      <td>1-2 Tahun</td>\n",
              "      <td>Pernah</td>\n",
              "      <td>36480.0</td>\n",
              "      <td>26.0</td>\n",
              "      <td>44.0</td>\n",
              "      <td>0</td>\n",
              "    </tr>\n",
              "  </tbody>\n",
              "</table>\n",
              "<p>285831 rows × 10 columns</p>\n",
              "</div>"
            ],
            "text/plain": [
              "       Jenis_Kelamin  Umur  ...  Lama_Berlangganan  Tertarik\n",
              "0             Wanita  30.0  ...               97.0         0\n",
              "1               Pria  48.0  ...              158.0         0\n",
              "2                NaN  21.0  ...              119.0         0\n",
              "3             Wanita  58.0  ...               63.0         0\n",
              "4               Pria  50.0  ...              194.0         0\n",
              "...              ...   ...  ...                ...       ...\n",
              "285826        Wanita  23.0  ...              217.0         0\n",
              "285827        Wanita  21.0  ...               50.0         0\n",
              "285828        Wanita  23.0  ...              226.0         0\n",
              "285829          Pria  68.0  ...              270.0         0\n",
              "285830          Pria  45.0  ...               44.0         0\n",
              "\n",
              "[285831 rows x 10 columns]"
            ]
          },
          "metadata": {},
          "execution_count": 3
        }
      ]
    },
    {
      "cell_type": "code",
      "metadata": {
        "id": "fncEszPofuNX",
        "colab": {
          "base_uri": "https://localhost:8080/"
        },
        "outputId": "1b1f5dd4-caba-4b5c-bafa-9c6acccd16b2"
      },
      "source": [
        "#DOWNLOAD KENDARAAN_TEST\n",
        "!gdown --id 1-tLY7LwlMwG7Kxk3u58J9gDNhSmfCIpa"
      ],
      "execution_count": 4,
      "outputs": [
        {
          "output_type": "stream",
          "name": "stdout",
          "text": [
            "Downloading...\n",
            "From: https://drive.google.com/uc?id=1-tLY7LwlMwG7Kxk3u58J9gDNhSmfCIpa\n",
            "To: /content/kendaraan_test.xlsx\n",
            "\r  0% 0.00/2.13M [00:00<?, ?B/s]\r100% 2.13M/2.13M [00:00<00:00, 66.7MB/s]\n"
          ]
        }
      ]
    },
    {
      "cell_type": "code",
      "metadata": {
        "id": "0J4d7mqnf8A4",
        "colab": {
          "base_uri": "https://localhost:8080/",
          "height": 206
        },
        "outputId": "3c6be005-4c40-41d8-f453-1d9ad2cacfcc"
      },
      "source": [
        "#BACA DATA KENDARAAN_TEST\n",
        "data2 = pd.read_excel(\"kendaraan_test.xlsx\")\n",
        "data2.head()"
      ],
      "execution_count": 5,
      "outputs": [
        {
          "output_type": "execute_result",
          "data": {
            "text/html": [
              "<div>\n",
              "<style scoped>\n",
              "    .dataframe tbody tr th:only-of-type {\n",
              "        vertical-align: middle;\n",
              "    }\n",
              "\n",
              "    .dataframe tbody tr th {\n",
              "        vertical-align: top;\n",
              "    }\n",
              "\n",
              "    .dataframe thead th {\n",
              "        text-align: right;\n",
              "    }\n",
              "</style>\n",
              "<table border=\"1\" class=\"dataframe\">\n",
              "  <thead>\n",
              "    <tr style=\"text-align: right;\">\n",
              "      <th></th>\n",
              "      <th>Jenis_Kelamin</th>\n",
              "      <th>Umur</th>\n",
              "      <th>SIM</th>\n",
              "      <th>Kode_Daerah</th>\n",
              "      <th>Sudah_Asuransi</th>\n",
              "      <th>Umur_Kendaraan</th>\n",
              "      <th>Kendaraan_Rusak</th>\n",
              "      <th>Premi</th>\n",
              "      <th>Kanal_Penjualan</th>\n",
              "      <th>Lama_Berlangganan</th>\n",
              "      <th>Tertarik</th>\n",
              "    </tr>\n",
              "  </thead>\n",
              "  <tbody>\n",
              "    <tr>\n",
              "      <th>0</th>\n",
              "      <td>Wanita</td>\n",
              "      <td>22</td>\n",
              "      <td>1</td>\n",
              "      <td>52</td>\n",
              "      <td>0</td>\n",
              "      <td>1-2 Tahun</td>\n",
              "      <td>Pernah</td>\n",
              "      <td>32895</td>\n",
              "      <td>124</td>\n",
              "      <td>71</td>\n",
              "      <td>1</td>\n",
              "    </tr>\n",
              "    <tr>\n",
              "      <th>1</th>\n",
              "      <td>Pria</td>\n",
              "      <td>54</td>\n",
              "      <td>1</td>\n",
              "      <td>52</td>\n",
              "      <td>0</td>\n",
              "      <td>1-2 Tahun</td>\n",
              "      <td>Pernah</td>\n",
              "      <td>43388</td>\n",
              "      <td>124</td>\n",
              "      <td>198</td>\n",
              "      <td>0</td>\n",
              "    </tr>\n",
              "    <tr>\n",
              "      <th>2</th>\n",
              "      <td>Wanita</td>\n",
              "      <td>24</td>\n",
              "      <td>1</td>\n",
              "      <td>52</td>\n",
              "      <td>0</td>\n",
              "      <td>1-2 Tahun</td>\n",
              "      <td>Pernah</td>\n",
              "      <td>45032</td>\n",
              "      <td>124</td>\n",
              "      <td>171</td>\n",
              "      <td>0</td>\n",
              "    </tr>\n",
              "    <tr>\n",
              "      <th>3</th>\n",
              "      <td>Wanita</td>\n",
              "      <td>78</td>\n",
              "      <td>1</td>\n",
              "      <td>52</td>\n",
              "      <td>0</td>\n",
              "      <td>&gt; 2 Tahun</td>\n",
              "      <td>Pernah</td>\n",
              "      <td>42825</td>\n",
              "      <td>26</td>\n",
              "      <td>208</td>\n",
              "      <td>1</td>\n",
              "    </tr>\n",
              "    <tr>\n",
              "      <th>4</th>\n",
              "      <td>Wanita</td>\n",
              "      <td>45</td>\n",
              "      <td>1</td>\n",
              "      <td>52</td>\n",
              "      <td>0</td>\n",
              "      <td>1-2 Tahun</td>\n",
              "      <td>Pernah</td>\n",
              "      <td>2630</td>\n",
              "      <td>26</td>\n",
              "      <td>228</td>\n",
              "      <td>0</td>\n",
              "    </tr>\n",
              "  </tbody>\n",
              "</table>\n",
              "</div>"
            ],
            "text/plain": [
              "  Jenis_Kelamin  Umur  SIM  ...  Kanal_Penjualan  Lama_Berlangganan Tertarik\n",
              "0        Wanita    22    1  ...              124                 71        1\n",
              "1          Pria    54    1  ...              124                198        0\n",
              "2        Wanita    24    1  ...              124                171        0\n",
              "3        Wanita    78    1  ...               26                208        1\n",
              "4        Wanita    45    1  ...               26                228        0\n",
              "\n",
              "[5 rows x 11 columns]"
            ]
          },
          "metadata": {},
          "execution_count": 5
        }
      ]
    },
    {
      "cell_type": "code",
      "metadata": {
        "id": "cg3rv3dnuinF",
        "colab": {
          "base_uri": "https://localhost:8080/"
        },
        "outputId": "d55b7aa3-b221-4e2d-c247-4804c300534b"
      },
      "source": [
        "#INFO DATA KENDARAAN_TRAIN\n",
        "data1.info()"
      ],
      "execution_count": 6,
      "outputs": [
        {
          "output_type": "stream",
          "name": "stdout",
          "text": [
            "<class 'pandas.core.frame.DataFrame'>\n",
            "RangeIndex: 285831 entries, 0 to 285830\n",
            "Data columns (total 10 columns):\n",
            " #   Column             Non-Null Count   Dtype  \n",
            "---  ------             --------------   -----  \n",
            " 0   Jenis_Kelamin      271391 non-null  object \n",
            " 1   Umur               271617 non-null  float64\n",
            " 2   Kode_Daerah        271525 non-null  float64\n",
            " 3   Sudah_Asuransi     271602 non-null  float64\n",
            " 4   Umur_Kendaraan     271556 non-null  object \n",
            " 5   Kendaraan_Rusak    271643 non-null  object \n",
            " 6   Premi              271262 non-null  float64\n",
            " 7   Kanal_Penjualan    271532 non-null  float64\n",
            " 8   Lama_Berlangganan  271839 non-null  float64\n",
            " 9   Tertarik           285831 non-null  int64  \n",
            "dtypes: float64(6), int64(1), object(3)\n",
            "memory usage: 21.8+ MB\n"
          ]
        }
      ]
    },
    {
      "cell_type": "code",
      "metadata": {
        "id": "Ji-4Of8yhAyg",
        "colab": {
          "base_uri": "https://localhost:8080/"
        },
        "outputId": "86e462b7-eef9-4bc0-fa36-a4946ee2d50d"
      },
      "source": [
        "#INFO DATA KENDARAAN_TEST\n",
        "data2.info()"
      ],
      "execution_count": 7,
      "outputs": [
        {
          "output_type": "stream",
          "name": "stdout",
          "text": [
            "<class 'pandas.core.frame.DataFrame'>\n",
            "RangeIndex: 47639 entries, 0 to 47638\n",
            "Data columns (total 11 columns):\n",
            " #   Column             Non-Null Count  Dtype \n",
            "---  ------             --------------  ----- \n",
            " 0   Jenis_Kelamin      47639 non-null  object\n",
            " 1   Umur               47639 non-null  int64 \n",
            " 2   SIM                47639 non-null  int64 \n",
            " 3   Kode_Daerah        47639 non-null  int64 \n",
            " 4   Sudah_Asuransi     47639 non-null  int64 \n",
            " 5   Umur_Kendaraan     47639 non-null  object\n",
            " 6   Kendaraan_Rusak    47639 non-null  object\n",
            " 7   Premi              47639 non-null  int64 \n",
            " 8   Kanal_Penjualan    47639 non-null  int64 \n",
            " 9   Lama_Berlangganan  47639 non-null  int64 \n",
            " 10  Tertarik           47639 non-null  int64 \n",
            "dtypes: int64(8), object(3)\n",
            "memory usage: 4.0+ MB\n"
          ]
        }
      ]
    },
    {
      "cell_type": "code",
      "metadata": {
        "id": "6cWjnDPo_Jc_",
        "colab": {
          "base_uri": "https://localhost:8080/",
          "height": 300
        },
        "outputId": "641a1010-25c3-4286-c6f5-bbb8647b4a10"
      },
      "source": [
        "#DESCRIBE SEMUA DATA1\n",
        "data1.describe()"
      ],
      "execution_count": 8,
      "outputs": [
        {
          "output_type": "execute_result",
          "data": {
            "text/html": [
              "<div>\n",
              "<style scoped>\n",
              "    .dataframe tbody tr th:only-of-type {\n",
              "        vertical-align: middle;\n",
              "    }\n",
              "\n",
              "    .dataframe tbody tr th {\n",
              "        vertical-align: top;\n",
              "    }\n",
              "\n",
              "    .dataframe thead th {\n",
              "        text-align: right;\n",
              "    }\n",
              "</style>\n",
              "<table border=\"1\" class=\"dataframe\">\n",
              "  <thead>\n",
              "    <tr style=\"text-align: right;\">\n",
              "      <th></th>\n",
              "      <th>Umur</th>\n",
              "      <th>Kode_Daerah</th>\n",
              "      <th>Sudah_Asuransi</th>\n",
              "      <th>Premi</th>\n",
              "      <th>Kanal_Penjualan</th>\n",
              "      <th>Lama_Berlangganan</th>\n",
              "      <th>Tertarik</th>\n",
              "    </tr>\n",
              "  </thead>\n",
              "  <tbody>\n",
              "    <tr>\n",
              "      <th>count</th>\n",
              "      <td>271617.000000</td>\n",
              "      <td>271525.000000</td>\n",
              "      <td>271602.000000</td>\n",
              "      <td>271262.000000</td>\n",
              "      <td>271532.000000</td>\n",
              "      <td>271839.000000</td>\n",
              "      <td>285831.000000</td>\n",
              "    </tr>\n",
              "    <tr>\n",
              "      <th>mean</th>\n",
              "      <td>38.844336</td>\n",
              "      <td>26.405410</td>\n",
              "      <td>0.458778</td>\n",
              "      <td>30536.683472</td>\n",
              "      <td>112.021567</td>\n",
              "      <td>154.286302</td>\n",
              "      <td>0.122471</td>\n",
              "    </tr>\n",
              "    <tr>\n",
              "      <th>std</th>\n",
              "      <td>15.522487</td>\n",
              "      <td>13.252714</td>\n",
              "      <td>0.498299</td>\n",
              "      <td>17155.000770</td>\n",
              "      <td>54.202457</td>\n",
              "      <td>83.694910</td>\n",
              "      <td>0.327830</td>\n",
              "    </tr>\n",
              "    <tr>\n",
              "      <th>min</th>\n",
              "      <td>20.000000</td>\n",
              "      <td>0.000000</td>\n",
              "      <td>0.000000</td>\n",
              "      <td>2630.000000</td>\n",
              "      <td>1.000000</td>\n",
              "      <td>10.000000</td>\n",
              "      <td>0.000000</td>\n",
              "    </tr>\n",
              "    <tr>\n",
              "      <th>25%</th>\n",
              "      <td>25.000000</td>\n",
              "      <td>15.000000</td>\n",
              "      <td>0.000000</td>\n",
              "      <td>24398.000000</td>\n",
              "      <td>29.000000</td>\n",
              "      <td>82.000000</td>\n",
              "      <td>0.000000</td>\n",
              "    </tr>\n",
              "    <tr>\n",
              "      <th>50%</th>\n",
              "      <td>36.000000</td>\n",
              "      <td>28.000000</td>\n",
              "      <td>0.000000</td>\n",
              "      <td>31646.000000</td>\n",
              "      <td>132.000000</td>\n",
              "      <td>154.000000</td>\n",
              "      <td>0.000000</td>\n",
              "    </tr>\n",
              "    <tr>\n",
              "      <th>75%</th>\n",
              "      <td>49.000000</td>\n",
              "      <td>35.000000</td>\n",
              "      <td>1.000000</td>\n",
              "      <td>39377.750000</td>\n",
              "      <td>152.000000</td>\n",
              "      <td>227.000000</td>\n",
              "      <td>0.000000</td>\n",
              "    </tr>\n",
              "    <tr>\n",
              "      <th>max</th>\n",
              "      <td>85.000000</td>\n",
              "      <td>52.000000</td>\n",
              "      <td>1.000000</td>\n",
              "      <td>540165.000000</td>\n",
              "      <td>163.000000</td>\n",
              "      <td>299.000000</td>\n",
              "      <td>1.000000</td>\n",
              "    </tr>\n",
              "  </tbody>\n",
              "</table>\n",
              "</div>"
            ],
            "text/plain": [
              "                Umur    Kode_Daerah  ...  Lama_Berlangganan       Tertarik\n",
              "count  271617.000000  271525.000000  ...      271839.000000  285831.000000\n",
              "mean       38.844336      26.405410  ...         154.286302       0.122471\n",
              "std        15.522487      13.252714  ...          83.694910       0.327830\n",
              "min        20.000000       0.000000  ...          10.000000       0.000000\n",
              "25%        25.000000      15.000000  ...          82.000000       0.000000\n",
              "50%        36.000000      28.000000  ...         154.000000       0.000000\n",
              "75%        49.000000      35.000000  ...         227.000000       0.000000\n",
              "max        85.000000      52.000000  ...         299.000000       1.000000\n",
              "\n",
              "[8 rows x 7 columns]"
            ]
          },
          "metadata": {},
          "execution_count": 8
        }
      ]
    },
    {
      "cell_type": "code",
      "metadata": {
        "id": "DORs7RGO__5g",
        "colab": {
          "base_uri": "https://localhost:8080/"
        },
        "outputId": "6a1d7dda-69af-4f93-991b-d0b1c67e4b5f"
      },
      "source": [
        "#CEK JUMLAH NULL DALAM TIAP KOLOM\n",
        "check_null = data1.isnull().sum()\n",
        "print(check_null)"
      ],
      "execution_count": 9,
      "outputs": [
        {
          "output_type": "stream",
          "name": "stdout",
          "text": [
            "Jenis_Kelamin        14440\n",
            "Umur                 14214\n",
            "Kode_Daerah          14306\n",
            "Sudah_Asuransi       14229\n",
            "Umur_Kendaraan       14275\n",
            "Kendaraan_Rusak      14188\n",
            "Premi                14569\n",
            "Kanal_Penjualan      14299\n",
            "Lama_Berlangganan    13992\n",
            "Tertarik                 0\n",
            "dtype: int64\n"
          ]
        }
      ]
    },
    {
      "cell_type": "code",
      "metadata": {
        "colab": {
          "base_uri": "https://localhost:8080/"
        },
        "id": "ZF9KpY4zxWU3",
        "outputId": "5a580815-51a8-46c1-e256-23e218e3b342"
      },
      "source": [
        "#MENAMPILKAN JUMLAH DATA YANG DUPLIKAT\n",
        "dupl = data1.duplicated()\n",
        "print('Number of duplicate rows = %d' % (dupl.sum()))"
      ],
      "execution_count": 10,
      "outputs": [
        {
          "output_type": "stream",
          "name": "stdout",
          "text": [
            "Number of duplicate rows = 191\n"
          ]
        }
      ]
    },
    {
      "cell_type": "code",
      "metadata": {
        "colab": {
          "base_uri": "https://localhost:8080/",
          "height": 556
        },
        "id": "KTRyYRgYBCBc",
        "outputId": "3624c69c-3f11-4ed1-c0b5-6a1577f0c9b5"
      },
      "source": [
        "#CEK OUTLIER\n",
        "data1.boxplot(figsize=[15,8])"
      ],
      "execution_count": 11,
      "outputs": [
        {
          "output_type": "stream",
          "name": "stderr",
          "text": [
            "/usr/local/lib/python3.7/dist-packages/numpy/core/_asarray.py:83: VisibleDeprecationWarning: Creating an ndarray from ragged nested sequences (which is a list-or-tuple of lists-or-tuples-or ndarrays with different lengths or shapes) is deprecated. If you meant to do this, you must specify 'dtype=object' when creating the ndarray\n",
            "  return array(a, dtype, copy=False, order=order)\n"
          ]
        },
        {
          "output_type": "execute_result",
          "data": {
            "text/plain": [
              "<matplotlib.axes._subplots.AxesSubplot at 0x7f0139676890>"
            ]
          },
          "metadata": {},
          "execution_count": 11
        },
        {
          "output_type": "display_data",
          "data": {
            "image/png": "[encoded data removed]",
            "text/plain": [
              "<Figure size 1080x576 with 1 Axes>"
            ]
          },
          "metadata": {
            "needs_background": "light"
          }
        }
      ]
    },
    {
      "cell_type": "code",
      "metadata": {
        "colab": {
          "base_uri": "https://localhost:8080/",
          "height": 342
        },
        "id": "Pbx6JbJ8USQI",
        "outputId": "522a1944-9b5d-4241-cdc0-7c6547ea22c6"
      },
      "source": [
        "#KORELASI\n",
        "korelasi = data1.corr()\n",
        "plt.subplots(figsize=(15,5))\n",
        "sns.heatmap(korelasi, annot = True )"
      ],
      "execution_count": 12,
      "outputs": [
        {
          "output_type": "execute_result",
          "data": {
            "text/plain": [
              "<matplotlib.axes._subplots.AxesSubplot at 0x7f013b146d10>"
            ]
          },
          "metadata": {},
          "execution_count": 12
        },
        {
          "output_type": "display_data",
          "data": {
            "image/png": "[encoded data removed]",
            "text/plain": [
              "<Figure size 1080x360 with 2 Axes>"
            ]
          },
          "metadata": {
            "needs_background": "light"
          }
        }
      ]
    },
    {
      "cell_type": "code",
      "metadata": {
        "colab": {
          "base_uri": "https://localhost:8080/"
        },
        "id": "THvYg33Ku-1A",
        "outputId": "5b007e54-eaa7-49bc-b0e9-41456cf7c0cb"
      },
      "source": [
        "#MELIHAT UKURAN DATA1\n",
        "data1.shape"
      ],
      "execution_count": 13,
      "outputs": [
        {
          "output_type": "execute_result",
          "data": {
            "text/plain": [
              "(285831, 10)"
            ]
          },
          "metadata": {},
          "execution_count": 13
        }
      ]
    },
    {
      "cell_type": "markdown",
      "metadata": {
        "id": "7PXZmHV2BSQY"
      },
      "source": [
        "DATA CLEAN(PEMBERSIHAN DATA)"
      ]
    },
    {
      "cell_type": "code",
      "metadata": {
        "id": "fV0bbOGCBX4Z"
      },
      "source": [
        "#SPLIT DATA\n",
        "data1_x = data1.iloc[:,:9]\n",
        "data1_y = data1['Tertarik']"
      ],
      "execution_count": 14,
      "outputs": []
    },
    {
      "cell_type": "code",
      "metadata": {
        "colab": {
          "base_uri": "https://localhost:8080/"
        },
        "id": "cnJSNxztiy_k",
        "outputId": "6ad5088d-1c0b-43a6-8dbc-c97acb57c7d9"
      },
      "source": [
        "print('Data Shape x : ', data1_x.shape)"
      ],
      "execution_count": 15,
      "outputs": [
        {
          "output_type": "stream",
          "name": "stdout",
          "text": [
            "Data Shape x :  (285831, 9)\n"
          ]
        }
      ]
    },
    {
      "cell_type": "code",
      "metadata": {
        "colab": {
          "base_uri": "https://localhost:8080/"
        },
        "id": "O7T-7-YOi0FU",
        "outputId": "56a396da-4496-4574-ddf2-08297d503ee9"
      },
      "source": [
        "print('Data Shape y : ', data1_y.shape)"
      ],
      "execution_count": 16,
      "outputs": [
        {
          "output_type": "stream",
          "name": "stdout",
          "text": [
            "Data Shape y :  (285831,)\n"
          ]
        }
      ]
    },
    {
      "cell_type": "code",
      "metadata": {
        "colab": {
          "base_uri": "https://localhost:8080/"
        },
        "id": "9-R1bgACCTNx",
        "outputId": "90ebf227-3c90-4572-94d9-260bc221cf4e"
      },
      "source": [
        "data1_y.head(5)"
      ],
      "execution_count": 17,
      "outputs": [
        {
          "output_type": "execute_result",
          "data": {
            "text/plain": [
              "0    0\n",
              "1    0\n",
              "2    0\n",
              "3    0\n",
              "4    0\n",
              "Name: Tertarik, dtype: int64"
            ]
          },
          "metadata": {},
          "execution_count": 17
        }
      ]
    },
    {
      "cell_type": "code",
      "metadata": {
        "colab": {
          "base_uri": "https://localhost:8080/",
          "height": 206
        },
        "id": "tygS0WYIzKEv",
        "outputId": "cecf31ab-31ed-4330-8bad-d3b60baf4641"
      },
      "source": [
        "data1_x.head(5)"
      ],
      "execution_count": 18,
      "outputs": [
        {
          "output_type": "execute_result",
          "data": {
            "text/html": [
              "<div>\n",
              "<style scoped>\n",
              "    .dataframe tbody tr th:only-of-type {\n",
              "        vertical-align: middle;\n",
              "    }\n",
              "\n",
              "    .dataframe tbody tr th {\n",
              "        vertical-align: top;\n",
              "    }\n",
              "\n",
              "    .dataframe thead th {\n",
              "        text-align: right;\n",
              "    }\n",
              "</style>\n",
              "<table border=\"1\" class=\"dataframe\">\n",
              "  <thead>\n",
              "    <tr style=\"text-align: right;\">\n",
              "      <th></th>\n",
              "      <th>Jenis_Kelamin</th>\n",
              "      <th>Umur</th>\n",
              "      <th>Kode_Daerah</th>\n",
              "      <th>Sudah_Asuransi</th>\n",
              "      <th>Umur_Kendaraan</th>\n",
              "      <th>Kendaraan_Rusak</th>\n",
              "      <th>Premi</th>\n",
              "      <th>Kanal_Penjualan</th>\n",
              "      <th>Lama_Berlangganan</th>\n",
              "    </tr>\n",
              "  </thead>\n",
              "  <tbody>\n",
              "    <tr>\n",
              "      <th>0</th>\n",
              "      <td>Wanita</td>\n",
              "      <td>30.0</td>\n",
              "      <td>33.0</td>\n",
              "      <td>1.0</td>\n",
              "      <td>&lt; 1 Tahun</td>\n",
              "      <td>&lt; 1 Tahun</td>\n",
              "      <td>28029.0</td>\n",
              "      <td>152.0</td>\n",
              "      <td>97.0</td>\n",
              "    </tr>\n",
              "    <tr>\n",
              "      <th>1</th>\n",
              "      <td>Pria</td>\n",
              "      <td>48.0</td>\n",
              "      <td>39.0</td>\n",
              "      <td>0.0</td>\n",
              "      <td>&gt; 2 Tahun</td>\n",
              "      <td>Pernah</td>\n",
              "      <td>25800.0</td>\n",
              "      <td>29.0</td>\n",
              "      <td>158.0</td>\n",
              "    </tr>\n",
              "    <tr>\n",
              "      <th>2</th>\n",
              "      <td>NaN</td>\n",
              "      <td>21.0</td>\n",
              "      <td>46.0</td>\n",
              "      <td>1.0</td>\n",
              "      <td>&lt; 1 Tahun</td>\n",
              "      <td>Tidak</td>\n",
              "      <td>32733.0</td>\n",
              "      <td>160.0</td>\n",
              "      <td>119.0</td>\n",
              "    </tr>\n",
              "    <tr>\n",
              "      <th>3</th>\n",
              "      <td>Wanita</td>\n",
              "      <td>58.0</td>\n",
              "      <td>48.0</td>\n",
              "      <td>0.0</td>\n",
              "      <td>1-2 Tahun</td>\n",
              "      <td>Tidak</td>\n",
              "      <td>2630.0</td>\n",
              "      <td>124.0</td>\n",
              "      <td>63.0</td>\n",
              "    </tr>\n",
              "    <tr>\n",
              "      <th>4</th>\n",
              "      <td>Pria</td>\n",
              "      <td>50.0</td>\n",
              "      <td>35.0</td>\n",
              "      <td>0.0</td>\n",
              "      <td>&gt; 2 Tahun</td>\n",
              "      <td>NaN</td>\n",
              "      <td>34857.0</td>\n",
              "      <td>88.0</td>\n",
              "      <td>194.0</td>\n",
              "    </tr>\n",
              "  </tbody>\n",
              "</table>\n",
              "</div>"
            ],
            "text/plain": [
              "  Jenis_Kelamin  Umur  Kode_Daerah  ...    Premi Kanal_Penjualan Lama_Berlangganan\n",
              "0        Wanita  30.0         33.0  ...  28029.0           152.0              97.0\n",
              "1          Pria  48.0         39.0  ...  25800.0            29.0             158.0\n",
              "2           NaN  21.0         46.0  ...  32733.0           160.0             119.0\n",
              "3        Wanita  58.0         48.0  ...   2630.0           124.0              63.0\n",
              "4          Pria  50.0         35.0  ...  34857.0            88.0             194.0\n",
              "\n",
              "[5 rows x 9 columns]"
            ]
          },
          "metadata": {},
          "execution_count": 18
        }
      ]
    },
    {
      "cell_type": "code",
      "metadata": {
        "colab": {
          "base_uri": "https://localhost:8080/"
        },
        "id": "IR19HFUDCaZI",
        "outputId": "44f6438b-c98b-4894-f588-2fd9406829bb"
      },
      "source": [
        "#DROP NULL DARI DATA KENDARAAN TRAIN \n",
        "data1_x.dropna(inplace = True, axis =0)\n",
        "check_null = data1_x.isnull().sum() \n",
        "print(check_null)"
      ],
      "execution_count": 19,
      "outputs": [
        {
          "output_type": "stream",
          "name": "stdout",
          "text": [
            "Jenis_Kelamin        0\n",
            "Umur                 0\n",
            "Kode_Daerah          0\n",
            "Sudah_Asuransi       0\n",
            "Umur_Kendaraan       0\n",
            "Kendaraan_Rusak      0\n",
            "Premi                0\n",
            "Kanal_Penjualan      0\n",
            "Lama_Berlangganan    0\n",
            "dtype: int64\n"
          ]
        }
      ]
    },
    {
      "cell_type": "code",
      "metadata": {
        "colab": {
          "base_uri": "https://localhost:8080/"
        },
        "id": "_A3oP5tJvKo-",
        "outputId": "87220ea9-0a0b-4a34-84ba-ff12d6a838fa"
      },
      "source": [
        "data1_x.shape"
      ],
      "execution_count": 20,
      "outputs": [
        {
          "output_type": "execute_result",
          "data": {
            "text/plain": [
              "(180183, 9)"
            ]
          },
          "metadata": {},
          "execution_count": 20
        }
      ]
    },
    {
      "cell_type": "code",
      "metadata": {
        "id": "aNolsmokDCjg",
        "colab": {
          "base_uri": "https://localhost:8080/",
          "height": 362
        },
        "outputId": "9b860bc1-c472-46ef-d0a8-edb62f221767"
      },
      "source": [
        "#HEATMAP CEK NILAI NULL SETIAP KOLOM\n",
        "heatmap = sns.heatmap(data1_x.isnull())"
      ],
      "execution_count": 21,
      "outputs": [
        {
          "output_type": "display_data",
          "data": {
            "image/png": "[encoded data removed]",
            "text/plain": [
              "<Figure size 432x288 with 2 Axes>"
            ]
          },
          "metadata": {
            "needs_background": "light"
          }
        }
      ]
    },
    {
      "cell_type": "code",
      "metadata": {
        "id": "mcxDX_k1deiG",
        "colab": {
          "base_uri": "https://localhost:8080/",
          "height": 206
        },
        "outputId": "840120c4-1345-4490-e473-064f4668c405"
      },
      "source": [
        "#DROP DATA DULIKAT\n",
        "data1_x = data1_x.drop_duplicates()\n",
        "data1_x.head()"
      ],
      "execution_count": 22,
      "outputs": [
        {
          "output_type": "execute_result",
          "data": {
            "text/html": [
              "<div>\n",
              "<style scoped>\n",
              "    .dataframe tbody tr th:only-of-type {\n",
              "        vertical-align: middle;\n",
              "    }\n",
              "\n",
              "    .dataframe tbody tr th {\n",
              "        vertical-align: top;\n",
              "    }\n",
              "\n",
              "    .dataframe thead th {\n",
              "        text-align: right;\n",
              "    }\n",
              "</style>\n",
              "<table border=\"1\" class=\"dataframe\">\n",
              "  <thead>\n",
              "    <tr style=\"text-align: right;\">\n",
              "      <th></th>\n",
              "      <th>Jenis_Kelamin</th>\n",
              "      <th>Umur</th>\n",
              "      <th>Kode_Daerah</th>\n",
              "      <th>Sudah_Asuransi</th>\n",
              "      <th>Umur_Kendaraan</th>\n",
              "      <th>Kendaraan_Rusak</th>\n",
              "      <th>Premi</th>\n",
              "      <th>Kanal_Penjualan</th>\n",
              "      <th>Lama_Berlangganan</th>\n",
              "    </tr>\n",
              "  </thead>\n",
              "  <tbody>\n",
              "    <tr>\n",
              "      <th>0</th>\n",
              "      <td>Wanita</td>\n",
              "      <td>30.0</td>\n",
              "      <td>33.0</td>\n",
              "      <td>1.0</td>\n",
              "      <td>&lt; 1 Tahun</td>\n",
              "      <td>&lt; 1 Tahun</td>\n",
              "      <td>28029.0</td>\n",
              "      <td>152.0</td>\n",
              "      <td>97.0</td>\n",
              "    </tr>\n",
              "    <tr>\n",
              "      <th>1</th>\n",
              "      <td>Pria</td>\n",
              "      <td>48.0</td>\n",
              "      <td>39.0</td>\n",
              "      <td>0.0</td>\n",
              "      <td>&gt; 2 Tahun</td>\n",
              "      <td>Pernah</td>\n",
              "      <td>25800.0</td>\n",
              "      <td>29.0</td>\n",
              "      <td>158.0</td>\n",
              "    </tr>\n",
              "    <tr>\n",
              "      <th>3</th>\n",
              "      <td>Wanita</td>\n",
              "      <td>58.0</td>\n",
              "      <td>48.0</td>\n",
              "      <td>0.0</td>\n",
              "      <td>1-2 Tahun</td>\n",
              "      <td>Tidak</td>\n",
              "      <td>2630.0</td>\n",
              "      <td>124.0</td>\n",
              "      <td>63.0</td>\n",
              "    </tr>\n",
              "    <tr>\n",
              "      <th>5</th>\n",
              "      <td>Pria</td>\n",
              "      <td>21.0</td>\n",
              "      <td>35.0</td>\n",
              "      <td>1.0</td>\n",
              "      <td>&lt; 1 Tahun</td>\n",
              "      <td>Tidak</td>\n",
              "      <td>22735.0</td>\n",
              "      <td>152.0</td>\n",
              "      <td>171.0</td>\n",
              "    </tr>\n",
              "    <tr>\n",
              "      <th>7</th>\n",
              "      <td>Pria</td>\n",
              "      <td>23.0</td>\n",
              "      <td>28.0</td>\n",
              "      <td>1.0</td>\n",
              "      <td>&lt; 1 Tahun</td>\n",
              "      <td>Tidak</td>\n",
              "      <td>26869.0</td>\n",
              "      <td>152.0</td>\n",
              "      <td>222.0</td>\n",
              "    </tr>\n",
              "  </tbody>\n",
              "</table>\n",
              "</div>"
            ],
            "text/plain": [
              "  Jenis_Kelamin  Umur  Kode_Daerah  ...    Premi Kanal_Penjualan Lama_Berlangganan\n",
              "0        Wanita  30.0         33.0  ...  28029.0           152.0              97.0\n",
              "1          Pria  48.0         39.0  ...  25800.0            29.0             158.0\n",
              "3        Wanita  58.0         48.0  ...   2630.0           124.0              63.0\n",
              "5          Pria  21.0         35.0  ...  22735.0           152.0             171.0\n",
              "7          Pria  23.0         28.0  ...  26869.0           152.0             222.0\n",
              "\n",
              "[5 rows x 9 columns]"
            ]
          },
          "metadata": {},
          "execution_count": 22
        }
      ]
    },
    {
      "cell_type": "code",
      "metadata": {
        "id": "bnZ3llUqd72j",
        "colab": {
          "base_uri": "https://localhost:8080/"
        },
        "outputId": "b69736c4-afc2-4807-bfaf-52ad48df455a"
      },
      "source": [
        "#MENAMPILKAN JUMLAH DATA YANG DUPLIKAT\n",
        "dupl = data1_x.duplicated()\n",
        "print('Number of duplicate rows = %d' % (dupl.sum()))"
      ],
      "execution_count": 23,
      "outputs": [
        {
          "output_type": "stream",
          "name": "stdout",
          "text": [
            "Number of duplicate rows = 0\n"
          ]
        }
      ]
    },
    {
      "cell_type": "code",
      "metadata": {
        "id": "kgWNnhFOJOax",
        "colab": {
          "base_uri": "https://localhost:8080/"
        },
        "outputId": "7229b95a-5184-477e-e8e6-b84098a41997"
      },
      "source": [
        "data1_x.shape"
      ],
      "execution_count": 24,
      "outputs": [
        {
          "output_type": "execute_result",
          "data": {
            "text/plain": [
              "(180114, 9)"
            ]
          },
          "metadata": {},
          "execution_count": 24
        }
      ]
    },
    {
      "cell_type": "code",
      "metadata": {
        "id": "LNZJ8MS_DS1Y"
      },
      "source": [
        "data1_x.to_excel(r'kendaraan_train.xlsx', index =  False)"
      ],
      "execution_count": 25,
      "outputs": []
    },
    {
      "cell_type": "code",
      "metadata": {
        "id": "fVUBYaplr762"
      },
      "source": [
        "#MEMBUAT INDEX BARU\n",
        "#karena id sudah teracak\n",
        "\n",
        "#data1_x = data1_x.drop(['id'], axis = 1)\n",
        "#data1_x = data1_x.reset_index(drop=True)"
      ],
      "execution_count": 26,
      "outputs": []
    },
    {
      "cell_type": "code",
      "metadata": {
        "id": "OMw0LQhtJd2U",
        "colab": {
          "base_uri": "https://localhost:8080/"
        },
        "outputId": "ec3f64a4-a011-4c60-d78d-7eb0e6458075"
      },
      "source": [
        "data1_x.info()"
      ],
      "execution_count": 27,
      "outputs": [
        {
          "output_type": "stream",
          "name": "stdout",
          "text": [
            "<class 'pandas.core.frame.DataFrame'>\n",
            "Int64Index: 180114 entries, 0 to 285830\n",
            "Data columns (total 9 columns):\n",
            " #   Column             Non-Null Count   Dtype  \n",
            "---  ------             --------------   -----  \n",
            " 0   Jenis_Kelamin      180114 non-null  object \n",
            " 1   Umur               180114 non-null  float64\n",
            " 2   Kode_Daerah        180114 non-null  float64\n",
            " 3   Sudah_Asuransi     180114 non-null  float64\n",
            " 4   Umur_Kendaraan     180114 non-null  object \n",
            " 5   Kendaraan_Rusak    180114 non-null  object \n",
            " 6   Premi              180114 non-null  float64\n",
            " 7   Kanal_Penjualan    180114 non-null  float64\n",
            " 8   Lama_Berlangganan  180114 non-null  float64\n",
            "dtypes: float64(6), object(3)\n",
            "memory usage: 13.7+ MB\n"
          ]
        }
      ]
    },
    {
      "cell_type": "code",
      "metadata": {
        "id": "rYHHMnBCEHkN",
        "colab": {
          "base_uri": "https://localhost:8080/"
        },
        "outputId": "88c903ff-c418-4562-d35c-c85b197d8a12"
      },
      "source": [
        "print('Nilai unique dari tipe data objects yaitu :')\n",
        "\n",
        "#MELIHAT NILAI UNIK JENIS KELAMIN\n",
        "print('----Unik Jenis Kelamin----')\n",
        "print(data1_x['Jenis_Kelamin'].unique())\n",
        "\n",
        "#MELIHAT NILAI UNIK UMUR KENDARAAN\n",
        "print('----Unik Umur Kendaraan----')\n",
        "print(data1_x['Umur_Kendaraan'].unique())\n",
        "\n",
        "#MELIHAT NILAI UNIK KENDARAAN RUSAK\n",
        "print('----Unik Kendaraan Rusak----')\n",
        "print(data1_x['Kendaraan_Rusak'].unique())"
      ],
      "execution_count": 28,
      "outputs": [
        {
          "output_type": "stream",
          "name": "stdout",
          "text": [
            "Nilai unique dari tipe data objects yaitu :\n",
            "----Unik Jenis Kelamin----\n",
            "['Wanita' 'Pria']\n",
            "----Unik Umur Kendaraan----\n",
            "['< 1 Tahun' '> 2 Tahun' '1-2 Tahun']\n",
            "----Unik Kendaraan Rusak----\n",
            "['< 1 Tahun' 'Pernah' 'Tidak']\n"
          ]
        }
      ]
    },
    {
      "cell_type": "code",
      "metadata": {
        "id": "mq1kzddTD5bn",
        "colab": {
          "base_uri": "https://localhost:8080/",
          "height": 206
        },
        "outputId": "f8c56658-b400-4ca8-9ccf-60cfd93e833f"
      },
      "source": [
        "#LABEL MAPPING OBJECT MENJADI NUMERICAL\n",
        "mp = {\n",
        "    'Wanita': 0,'Pria': 1,'< 1 Tahun': 0,'> 2 Tahun': 2,'1-2 Tahun': 1,'Pernah' : 1,'Tidak': 0,\n",
        "    \n",
        "} \n",
        "#KATEGORI MAPPING\n",
        "data1_x = data1_x.replace({'Jenis_Kelamin':mp,'Umur_Kendaraan':mp,'Kendaraan_Rusak':mp})\n",
        "data1_x.head()"
      ],
      "execution_count": 29,
      "outputs": [
        {
          "output_type": "execute_result",
          "data": {
            "text/html": [
              "<div>\n",
              "<style scoped>\n",
              "    .dataframe tbody tr th:only-of-type {\n",
              "        vertical-align: middle;\n",
              "    }\n",
              "\n",
              "    .dataframe tbody tr th {\n",
              "        vertical-align: top;\n",
              "    }\n",
              "\n",
              "    .dataframe thead th {\n",
              "        text-align: right;\n",
              "    }\n",
              "</style>\n",
              "<table border=\"1\" class=\"dataframe\">\n",
              "  <thead>\n",
              "    <tr style=\"text-align: right;\">\n",
              "      <th></th>\n",
              "      <th>Jenis_Kelamin</th>\n",
              "      <th>Umur</th>\n",
              "      <th>Kode_Daerah</th>\n",
              "      <th>Sudah_Asuransi</th>\n",
              "      <th>Umur_Kendaraan</th>\n",
              "      <th>Kendaraan_Rusak</th>\n",
              "      <th>Premi</th>\n",
              "      <th>Kanal_Penjualan</th>\n",
              "      <th>Lama_Berlangganan</th>\n",
              "    </tr>\n",
              "  </thead>\n",
              "  <tbody>\n",
              "    <tr>\n",
              "      <th>0</th>\n",
              "      <td>0</td>\n",
              "      <td>30.0</td>\n",
              "      <td>33.0</td>\n",
              "      <td>1.0</td>\n",
              "      <td>0</td>\n",
              "      <td>0</td>\n",
              "      <td>28029.0</td>\n",
              "      <td>152.0</td>\n",
              "      <td>97.0</td>\n",
              "    </tr>\n",
              "    <tr>\n",
              "      <th>1</th>\n",
              "      <td>1</td>\n",
              "      <td>48.0</td>\n",
              "      <td>39.0</td>\n",
              "      <td>0.0</td>\n",
              "      <td>2</td>\n",
              "      <td>1</td>\n",
              "      <td>25800.0</td>\n",
              "      <td>29.0</td>\n",
              "      <td>158.0</td>\n",
              "    </tr>\n",
              "    <tr>\n",
              "      <th>3</th>\n",
              "      <td>0</td>\n",
              "      <td>58.0</td>\n",
              "      <td>48.0</td>\n",
              "      <td>0.0</td>\n",
              "      <td>1</td>\n",
              "      <td>0</td>\n",
              "      <td>2630.0</td>\n",
              "      <td>124.0</td>\n",
              "      <td>63.0</td>\n",
              "    </tr>\n",
              "    <tr>\n",
              "      <th>5</th>\n",
              "      <td>1</td>\n",
              "      <td>21.0</td>\n",
              "      <td>35.0</td>\n",
              "      <td>1.0</td>\n",
              "      <td>0</td>\n",
              "      <td>0</td>\n",
              "      <td>22735.0</td>\n",
              "      <td>152.0</td>\n",
              "      <td>171.0</td>\n",
              "    </tr>\n",
              "    <tr>\n",
              "      <th>7</th>\n",
              "      <td>1</td>\n",
              "      <td>23.0</td>\n",
              "      <td>28.0</td>\n",
              "      <td>1.0</td>\n",
              "      <td>0</td>\n",
              "      <td>0</td>\n",
              "      <td>26869.0</td>\n",
              "      <td>152.0</td>\n",
              "      <td>222.0</td>\n",
              "    </tr>\n",
              "  </tbody>\n",
              "</table>\n",
              "</div>"
            ],
            "text/plain": [
              "   Jenis_Kelamin  Umur  ...  Kanal_Penjualan  Lama_Berlangganan\n",
              "0              0  30.0  ...            152.0               97.0\n",
              "1              1  48.0  ...             29.0              158.0\n",
              "3              0  58.0  ...            124.0               63.0\n",
              "5              1  21.0  ...            152.0              171.0\n",
              "7              1  23.0  ...            152.0              222.0\n",
              "\n",
              "[5 rows x 9 columns]"
            ]
          },
          "metadata": {},
          "execution_count": 29
        }
      ]
    },
    {
      "cell_type": "code",
      "metadata": {
        "id": "YYGtKFNCGrcq"
      },
      "source": [
        "data1_x.to_excel(r'kendaraaan_notchar.xlsx', index = False)"
      ],
      "execution_count": 30,
      "outputs": []
    },
    {
      "cell_type": "code",
      "metadata": {
        "id": "mWIA0ZjfHf0T"
      },
      "source": [
        "#HILANGKAN OUTLIERS USING IQR\n",
        "Q1 = data1_x.quantile(0.25)\n",
        "Q3 = data1_x.quantile(0.75)\n",
        "IQR = Q3 - Q1\n",
        "\n",
        "data1_x = data1_x.loc[~((data1_x < (Q1 - 1.5 * IQR)).any(axis=1)|(data1_x > (Q3 + 1.5 * IQR)).any(axis=1))].dropna()\n",
        "data1_x.reset_index(drop=True, inplace=True)\n"
      ],
      "execution_count": 31,
      "outputs": []
    },
    {
      "cell_type": "code",
      "metadata": {
        "id": "55dfQXx2Le0Q",
        "colab": {
          "base_uri": "https://localhost:8080/"
        },
        "outputId": "d94933e4-fcab-44b8-b1ec-b3eb68c266f1"
      },
      "source": [
        "data1_x.shape"
      ],
      "execution_count": 32,
      "outputs": [
        {
          "output_type": "execute_result",
          "data": {
            "text/plain": [
              "(175205, 9)"
            ]
          },
          "metadata": {},
          "execution_count": 32
        }
      ]
    },
    {
      "cell_type": "code",
      "metadata": {
        "id": "WfnsuI9RosL9",
        "colab": {
          "base_uri": "https://localhost:8080/",
          "height": 113
        },
        "outputId": "6cec2b76-9287-4995-e59e-302ba9b8926e"
      },
      "source": [
        "data1_x.plot(kind = 'box',figsize = [60,55], subplots = True, layout = (40,30), sharex = False, sharey = False)\n",
        "plt.show()"
      ],
      "execution_count": 33,
      "outputs": [
        {
          "output_type": "display_data",
          "data": {
            "image/png": "[encoded data removed]",
            "text/plain": [
              "<Figure size 4320x3960 with 1200 Axes>"
            ]
          },
          "metadata": {
            "needs_background": "light"
          }
        }
      ]
    },
    {
      "cell_type": "code",
      "metadata": {
        "id": "W90CV8qZLmgM"
      },
      "source": [
        "data1_x.to_excel(r'kendaraan_train_outlier.xlsx', index = False)"
      ],
      "execution_count": 34,
      "outputs": []
    },
    {
      "cell_type": "code",
      "metadata": {
        "id": "t-SDsGZ0MOmx",
        "colab": {
          "base_uri": "https://localhost:8080/",
          "height": 424
        },
        "outputId": "089a8dd9-8802-4c97-9fd0-ea0bdd17e547"
      },
      "source": [
        "#NORMALISASI MENGGUNAKAN MINMAXSCALER\n",
        "scaler = MinMaxScaler()\n",
        "data1_x = pd.DataFrame(scaler.fit_transform(data1_x), columns=data1_x.columns)\n",
        "data1_x\n"
      ],
      "execution_count": 35,
      "outputs": [
        {
          "output_type": "execute_result",
          "data": {
            "text/html": [
              "<div>\n",
              "<style scoped>\n",
              "    .dataframe tbody tr th:only-of-type {\n",
              "        vertical-align: middle;\n",
              "    }\n",
              "\n",
              "    .dataframe tbody tr th {\n",
              "        vertical-align: top;\n",
              "    }\n",
              "\n",
              "    .dataframe thead th {\n",
              "        text-align: right;\n",
              "    }\n",
              "</style>\n",
              "<table border=\"1\" class=\"dataframe\">\n",
              "  <thead>\n",
              "    <tr style=\"text-align: right;\">\n",
              "      <th></th>\n",
              "      <th>Jenis_Kelamin</th>\n",
              "      <th>Umur</th>\n",
              "      <th>Kode_Daerah</th>\n",
              "      <th>Sudah_Asuransi</th>\n",
              "      <th>Umur_Kendaraan</th>\n",
              "      <th>Kendaraan_Rusak</th>\n",
              "      <th>Premi</th>\n",
              "      <th>Kanal_Penjualan</th>\n",
              "      <th>Lama_Berlangganan</th>\n",
              "    </tr>\n",
              "  </thead>\n",
              "  <tbody>\n",
              "    <tr>\n",
              "      <th>0</th>\n",
              "      <td>0.0</td>\n",
              "      <td>0.153846</td>\n",
              "      <td>0.634615</td>\n",
              "      <td>1.0</td>\n",
              "      <td>0.0</td>\n",
              "      <td>0.0</td>\n",
              "      <td>0.429371</td>\n",
              "      <td>0.932099</td>\n",
              "      <td>0.301038</td>\n",
              "    </tr>\n",
              "    <tr>\n",
              "      <th>1</th>\n",
              "      <td>1.0</td>\n",
              "      <td>0.430769</td>\n",
              "      <td>0.750000</td>\n",
              "      <td>0.0</td>\n",
              "      <td>1.0</td>\n",
              "      <td>1.0</td>\n",
              "      <td>0.391689</td>\n",
              "      <td>0.172840</td>\n",
              "      <td>0.512111</td>\n",
              "    </tr>\n",
              "    <tr>\n",
              "      <th>2</th>\n",
              "      <td>0.0</td>\n",
              "      <td>0.584615</td>\n",
              "      <td>0.923077</td>\n",
              "      <td>0.0</td>\n",
              "      <td>0.5</td>\n",
              "      <td>0.0</td>\n",
              "      <td>0.000000</td>\n",
              "      <td>0.759259</td>\n",
              "      <td>0.183391</td>\n",
              "    </tr>\n",
              "    <tr>\n",
              "      <th>3</th>\n",
              "      <td>1.0</td>\n",
              "      <td>0.015385</td>\n",
              "      <td>0.673077</td>\n",
              "      <td>1.0</td>\n",
              "      <td>0.0</td>\n",
              "      <td>0.0</td>\n",
              "      <td>0.339876</td>\n",
              "      <td>0.932099</td>\n",
              "      <td>0.557093</td>\n",
              "    </tr>\n",
              "    <tr>\n",
              "      <th>4</th>\n",
              "      <td>1.0</td>\n",
              "      <td>0.046154</td>\n",
              "      <td>0.538462</td>\n",
              "      <td>1.0</td>\n",
              "      <td>0.0</td>\n",
              "      <td>0.0</td>\n",
              "      <td>0.409761</td>\n",
              "      <td>0.932099</td>\n",
              "      <td>0.733564</td>\n",
              "    </tr>\n",
              "    <tr>\n",
              "      <th>...</th>\n",
              "      <td>...</td>\n",
              "      <td>...</td>\n",
              "      <td>...</td>\n",
              "      <td>...</td>\n",
              "      <td>...</td>\n",
              "      <td>...</td>\n",
              "      <td>...</td>\n",
              "      <td>...</td>\n",
              "      <td>...</td>\n",
              "    </tr>\n",
              "    <tr>\n",
              "      <th>175200</th>\n",
              "      <td>0.0</td>\n",
              "      <td>0.046154</td>\n",
              "      <td>0.076923</td>\n",
              "      <td>1.0</td>\n",
              "      <td>0.0</td>\n",
              "      <td>0.0</td>\n",
              "      <td>0.394868</td>\n",
              "      <td>0.932099</td>\n",
              "      <td>0.716263</td>\n",
              "    </tr>\n",
              "    <tr>\n",
              "      <th>175201</th>\n",
              "      <td>0.0</td>\n",
              "      <td>0.015385</td>\n",
              "      <td>0.884615</td>\n",
              "      <td>1.0</td>\n",
              "      <td>0.0</td>\n",
              "      <td>0.0</td>\n",
              "      <td>0.710958</td>\n",
              "      <td>0.932099</td>\n",
              "      <td>0.138408</td>\n",
              "    </tr>\n",
              "    <tr>\n",
              "      <th>175202</th>\n",
              "      <td>0.0</td>\n",
              "      <td>0.046154</td>\n",
              "      <td>0.961538</td>\n",
              "      <td>1.0</td>\n",
              "      <td>0.0</td>\n",
              "      <td>0.0</td>\n",
              "      <td>0.796582</td>\n",
              "      <td>0.932099</td>\n",
              "      <td>0.747405</td>\n",
              "    </tr>\n",
              "    <tr>\n",
              "      <th>175203</th>\n",
              "      <td>1.0</td>\n",
              "      <td>0.738462</td>\n",
              "      <td>0.134615</td>\n",
              "      <td>1.0</td>\n",
              "      <td>0.5</td>\n",
              "      <td>0.0</td>\n",
              "      <td>0.471194</td>\n",
              "      <td>0.759259</td>\n",
              "      <td>0.899654</td>\n",
              "    </tr>\n",
              "    <tr>\n",
              "      <th>175204</th>\n",
              "      <td>1.0</td>\n",
              "      <td>0.384615</td>\n",
              "      <td>0.538462</td>\n",
              "      <td>0.0</td>\n",
              "      <td>0.5</td>\n",
              "      <td>1.0</td>\n",
              "      <td>0.572235</td>\n",
              "      <td>0.154321</td>\n",
              "      <td>0.117647</td>\n",
              "    </tr>\n",
              "  </tbody>\n",
              "</table>\n",
              "<p>175205 rows × 9 columns</p>\n",
              "</div>"
            ],
            "text/plain": [
              "        Jenis_Kelamin      Umur  ...  Kanal_Penjualan  Lama_Berlangganan\n",
              "0                 0.0  0.153846  ...         0.932099           0.301038\n",
              "1                 1.0  0.430769  ...         0.172840           0.512111\n",
              "2                 0.0  0.584615  ...         0.759259           0.183391\n",
              "3                 1.0  0.015385  ...         0.932099           0.557093\n",
              "4                 1.0  0.046154  ...         0.932099           0.733564\n",
              "...               ...       ...  ...              ...                ...\n",
              "175200            0.0  0.046154  ...         0.932099           0.716263\n",
              "175201            0.0  0.015385  ...         0.932099           0.138408\n",
              "175202            0.0  0.046154  ...         0.932099           0.747405\n",
              "175203            1.0  0.738462  ...         0.759259           0.899654\n",
              "175204            1.0  0.384615  ...         0.154321           0.117647\n",
              "\n",
              "[175205 rows x 9 columns]"
            ]
          },
          "metadata": {},
          "execution_count": 35
        }
      ]
    },
    {
      "cell_type": "code",
      "metadata": {
        "id": "_WYv4T_4P5Hp",
        "colab": {
          "base_uri": "https://localhost:8080/",
          "height": 428
        },
        "outputId": "4cbfa813-9f5c-4a10-aa10-6b4d38dd75bf"
      },
      "source": [
        "#KORELASI ANTAR VARIABLE\n",
        "plt.figure(figsize=(15,5))\n",
        "sns.heatmap(data1_x.corr(), annot = True, linewidths=.5)\n",
        "plt.title(\"Korelasi Antar Variable\" , y = 1.1)\n",
        "plt.show()"
      ],
      "execution_count": 36,
      "outputs": [
        {
          "output_type": "display_data",
          "data": {
            "image/png": "[encoded data removed]",
            "text/plain": [
              "<Figure size 1080x360 with 2 Axes>"
            ]
          },
          "metadata": {
            "needs_background": "light"
          }
        }
      ]
    },
    {
      "cell_type": "code",
      "metadata": {
        "id": "hNMQD-OLjnag"
      },
      "source": [
        "#data1_x = data1_x.drop(['SIM'], axis = 1 )"
      ],
      "execution_count": 37,
      "outputs": []
    },
    {
      "cell_type": "code",
      "metadata": {
        "id": "bX5kJWKgkQhc",
        "colab": {
          "base_uri": "https://localhost:8080/",
          "height": 206
        },
        "outputId": "fc6dafbc-7dea-4315-d5b8-a24826351c27"
      },
      "source": [
        "data1_x.head()"
      ],
      "execution_count": 38,
      "outputs": [
        {
          "output_type": "execute_result",
          "data": {
            "text/html": [
              "<div>\n",
              "<style scoped>\n",
              "    .dataframe tbody tr th:only-of-type {\n",
              "        vertical-align: middle;\n",
              "    }\n",
              "\n",
              "    .dataframe tbody tr th {\n",
              "        vertical-align: top;\n",
              "    }\n",
              "\n",
              "    .dataframe thead th {\n",
              "        text-align: right;\n",
              "    }\n",
              "</style>\n",
              "<table border=\"1\" class=\"dataframe\">\n",
              "  <thead>\n",
              "    <tr style=\"text-align: right;\">\n",
              "      <th></th>\n",
              "      <th>Jenis_Kelamin</th>\n",
              "      <th>Umur</th>\n",
              "      <th>Kode_Daerah</th>\n",
              "      <th>Sudah_Asuransi</th>\n",
              "      <th>Umur_Kendaraan</th>\n",
              "      <th>Kendaraan_Rusak</th>\n",
              "      <th>Premi</th>\n",
              "      <th>Kanal_Penjualan</th>\n",
              "      <th>Lama_Berlangganan</th>\n",
              "    </tr>\n",
              "  </thead>\n",
              "  <tbody>\n",
              "    <tr>\n",
              "      <th>0</th>\n",
              "      <td>0.0</td>\n",
              "      <td>0.153846</td>\n",
              "      <td>0.634615</td>\n",
              "      <td>1.0</td>\n",
              "      <td>0.0</td>\n",
              "      <td>0.0</td>\n",
              "      <td>0.429371</td>\n",
              "      <td>0.932099</td>\n",
              "      <td>0.301038</td>\n",
              "    </tr>\n",
              "    <tr>\n",
              "      <th>1</th>\n",
              "      <td>1.0</td>\n",
              "      <td>0.430769</td>\n",
              "      <td>0.750000</td>\n",
              "      <td>0.0</td>\n",
              "      <td>1.0</td>\n",
              "      <td>1.0</td>\n",
              "      <td>0.391689</td>\n",
              "      <td>0.172840</td>\n",
              "      <td>0.512111</td>\n",
              "    </tr>\n",
              "    <tr>\n",
              "      <th>2</th>\n",
              "      <td>0.0</td>\n",
              "      <td>0.584615</td>\n",
              "      <td>0.923077</td>\n",
              "      <td>0.0</td>\n",
              "      <td>0.5</td>\n",
              "      <td>0.0</td>\n",
              "      <td>0.000000</td>\n",
              "      <td>0.759259</td>\n",
              "      <td>0.183391</td>\n",
              "    </tr>\n",
              "    <tr>\n",
              "      <th>3</th>\n",
              "      <td>1.0</td>\n",
              "      <td>0.015385</td>\n",
              "      <td>0.673077</td>\n",
              "      <td>1.0</td>\n",
              "      <td>0.0</td>\n",
              "      <td>0.0</td>\n",
              "      <td>0.339876</td>\n",
              "      <td>0.932099</td>\n",
              "      <td>0.557093</td>\n",
              "    </tr>\n",
              "    <tr>\n",
              "      <th>4</th>\n",
              "      <td>1.0</td>\n",
              "      <td>0.046154</td>\n",
              "      <td>0.538462</td>\n",
              "      <td>1.0</td>\n",
              "      <td>0.0</td>\n",
              "      <td>0.0</td>\n",
              "      <td>0.409761</td>\n",
              "      <td>0.932099</td>\n",
              "      <td>0.733564</td>\n",
              "    </tr>\n",
              "  </tbody>\n",
              "</table>\n",
              "</div>"
            ],
            "text/plain": [
              "   Jenis_Kelamin      Umur  ...  Kanal_Penjualan  Lama_Berlangganan\n",
              "0            0.0  0.153846  ...         0.932099           0.301038\n",
              "1            1.0  0.430769  ...         0.172840           0.512111\n",
              "2            0.0  0.584615  ...         0.759259           0.183391\n",
              "3            1.0  0.015385  ...         0.932099           0.557093\n",
              "4            1.0  0.046154  ...         0.932099           0.733564\n",
              "\n",
              "[5 rows x 9 columns]"
            ]
          },
          "metadata": {},
          "execution_count": 38
        }
      ]
    },
    {
      "cell_type": "markdown",
      "metadata": {
        "id": "hJgAEczePIoj"
      },
      "source": [
        "CLUSTERING K-MEANS"
      ]
    },
    {
      "cell_type": "code",
      "metadata": {
        "id": "3oPYKzH-OLBe",
        "colab": {
          "base_uri": "https://localhost:8080/"
        },
        "outputId": "80b1fda8-e51f-4bb3-8f68-047e8d4ae987"
      },
      "source": [
        "#COMBINE KOLOM DAN BUAT 1 DAN 2\n",
        "pca       = PCA(n_components = 2)\n",
        "pca_data  = pca.fit_transform(data1_x)\n",
        "pca_data1 = pd.DataFrame(data = pca_data, columns = ['PCA 1', 'PCA 2'])\n",
        "pca_data1.shape "
      ],
      "execution_count": 39,
      "outputs": [
        {
          "output_type": "execute_result",
          "data": {
            "text/plain": [
              "(175205, 2)"
            ]
          },
          "metadata": {},
          "execution_count": 39
        }
      ]
    },
    {
      "cell_type": "code",
      "metadata": {
        "id": "J37O7zeMv2l2",
        "colab": {
          "base_uri": "https://localhost:8080/",
          "height": 282
        },
        "outputId": "8ea83bce-4789-4f0f-dd22-df513debdcd0"
      },
      "source": [
        "plt.scatter(pca_data[:,0],pca_data[:,1])"
      ],
      "execution_count": 40,
      "outputs": [
        {
          "output_type": "execute_result",
          "data": {
            "text/plain": [
              "<matplotlib.collections.PathCollection at 0x7f011cff3d90>"
            ]
          },
          "metadata": {},
          "execution_count": 40
        },
        {
          "output_type": "display_data",
          "data": {
            "image/png": "[encoded data removed]",
            "text/plain": [
              "<Figure size 432x288 with 1 Axes>"
            ]
          },
          "metadata": {
            "needs_background": "light"
          }
        }
      ]
    },
    {
      "cell_type": "code",
      "metadata": {
        "id": "yjKEdGMmjrxW",
        "colab": {
          "base_uri": "https://localhost:8080/"
        },
        "outputId": "7cc985db-7297-43b9-9235-ace591c7849f"
      },
      "source": [
        "pca_data"
      ],
      "execution_count": 41,
      "outputs": [
        {
          "output_type": "execute_result",
          "data": {
            "text/plain": [
              "array([[-0.90262885,  0.42007367],\n",
              "       [ 0.97991195, -0.42421764],\n",
              "       [-0.03722252,  0.48512783],\n",
              "       ...,\n",
              "       [-0.91314756,  0.42632599],\n",
              "       [-0.52191977, -0.65435462],\n",
              "       [ 0.86306907, -0.37933625]])"
            ]
          },
          "metadata": {},
          "execution_count": 41
        }
      ]
    },
    {
      "cell_type": "code",
      "metadata": {
        "id": "FH-9zRvEP9rs",
        "colab": {
          "base_uri": "https://localhost:8080/",
          "height": 206
        },
        "outputId": "f933fa44-41ad-43e2-e205-545e98c95fd3"
      },
      "source": [
        "pca_data1.head()"
      ],
      "execution_count": 42,
      "outputs": [
        {
          "output_type": "execute_result",
          "data": {
            "text/html": [
              "<div>\n",
              "<style scoped>\n",
              "    .dataframe tbody tr th:only-of-type {\n",
              "        vertical-align: middle;\n",
              "    }\n",
              "\n",
              "    .dataframe tbody tr th {\n",
              "        vertical-align: top;\n",
              "    }\n",
              "\n",
              "    .dataframe thead th {\n",
              "        text-align: right;\n",
              "    }\n",
              "</style>\n",
              "<table border=\"1\" class=\"dataframe\">\n",
              "  <thead>\n",
              "    <tr style=\"text-align: right;\">\n",
              "      <th></th>\n",
              "      <th>PCA 1</th>\n",
              "      <th>PCA 2</th>\n",
              "    </tr>\n",
              "  </thead>\n",
              "  <tbody>\n",
              "    <tr>\n",
              "      <th>0</th>\n",
              "      <td>-0.902629</td>\n",
              "      <td>0.420074</td>\n",
              "    </tr>\n",
              "    <tr>\n",
              "      <th>1</th>\n",
              "      <td>0.979912</td>\n",
              "      <td>-0.424218</td>\n",
              "    </tr>\n",
              "    <tr>\n",
              "      <th>2</th>\n",
              "      <td>-0.037223</td>\n",
              "      <td>0.485128</td>\n",
              "    </tr>\n",
              "    <tr>\n",
              "      <th>3</th>\n",
              "      <td>-0.762050</td>\n",
              "      <td>-0.526646</td>\n",
              "    </tr>\n",
              "    <tr>\n",
              "      <th>4</th>\n",
              "      <td>-0.759569</td>\n",
              "      <td>-0.529497</td>\n",
              "    </tr>\n",
              "  </tbody>\n",
              "</table>\n",
              "</div>"
            ],
            "text/plain": [
              "      PCA 1     PCA 2\n",
              "0 -0.902629  0.420074\n",
              "1  0.979912 -0.424218\n",
              "2 -0.037223  0.485128\n",
              "3 -0.762050 -0.526646\n",
              "4 -0.759569 -0.529497"
            ]
          },
          "metadata": {},
          "execution_count": 42
        }
      ]
    },
    {
      "cell_type": "code",
      "metadata": {
        "id": "znVRKLosQVXX",
        "colab": {
          "base_uri": "https://localhost:8080/"
        },
        "outputId": "77a9d7f0-cb29-4cc2-e912-da846af3a2f7"
      },
      "source": [
        "#INISIALISASI VARIABLE\n",
        "# JUMLAH CENTROID \n",
        "K = 2 \n",
        " # JUMLAH ITERASI ATAU PERULANGAN // MASUKKAN JUMLAH ITERASI            \n",
        "iterations = 100   \n",
        "\n",
        "nilaipca = pca_data1.values.shape\n",
        "print(nilaipca)"
      ],
      "execution_count": 43,
      "outputs": [
        {
          "output_type": "stream",
          "name": "stdout",
          "text": [
            "(175205, 2)\n"
          ]
        }
      ]
    },
    {
      "cell_type": "code",
      "metadata": {
        "id": "qKykJRFtQcJy",
        "colab": {
          "base_uri": "https://localhost:8080/"
        },
        "outputId": "314f0651-337a-4d60-f94f-b0c9c7b81f30"
      },
      "source": [
        "#BUAT CENTROID\n",
        "centroids = np.array([]).reshape(nilaipca[1],0) \n",
        "centroids"
      ],
      "execution_count": 44,
      "outputs": [
        {
          "output_type": "execute_result",
          "data": {
            "text/plain": [
              "array([], shape=(2, 0), dtype=float64)"
            ]
          },
          "metadata": {},
          "execution_count": 44
        }
      ]
    },
    {
      "cell_type": "code",
      "metadata": {
        "id": "z9nm_DwaQiAy"
      },
      "source": [
        "# RANDOM CENTROID SECARA ACAK\n",
        "for i in range(K):\n",
        "    rand = np.random.randint (0 , nilaipca [0]-1)\n",
        "    centroids = np.c_ [centroids, pca_data1.values[rand]]\n",
        "\n",
        "\n",
        "# MEMBUAT MATRIX UNTUK MENGHITUNG JARAK EUCLIDIAN\n",
        "for i in range(iterations):\n",
        "\n",
        "    EuclidianDistance=np.array([]).reshape(nilaipca[0],0)\n",
        "\n",
        "    for i in range(K):\n",
        "        tempDist = np.sum((pca_data1-centroids[:,i]) ** 2, axis = 1)\n",
        "        EuclidianDistance = np.c_[EuclidianDistance,tempDist]\n",
        "    hasil = np.argmin(EuclidianDistance,axis=1)+1\n",
        "\n",
        "    temp={}\n",
        "    for i in range(K):\n",
        "        temp[i+1]=np.array([]).reshape(2,0)\n",
        "\n",
        "    for i in range(nilaipca[0]):\n",
        "        temp[hasil[i]]=np.c_[temp[hasil[i]],pca_data1.values[i]]\n",
        "\n",
        "    for i in range(K):\n",
        "        temp[i+1]=temp[i+1].T\n",
        "\n",
        "    for i in range(K):\n",
        "         centroids[:,i]=np.mean(temp[i+1],axis=0)\n",
        "    output = temp\n",
        "\n",
        "    colors = [\n",
        "     'red',\n",
        "     'yellow'\n",
        "    ]\n",
        "    labels=[\n",
        "      'tertarik','tidak tertarik']\n",
        "    colors"
      ],
      "execution_count": 45,
      "outputs": []
    },
    {
      "cell_type": "code",
      "metadata": {
        "id": "EystOcyDTxhr",
        "colab": {
          "base_uri": "https://localhost:8080/",
          "height": 265
        },
        "outputId": "18fadf8f-5b56-42ac-c700-973991b85ea8"
      },
      "source": [
        "# PLOTTING DAN LABELING\n",
        "for k in range(K):\n",
        "\n",
        "    plt.scatter(output[k+1][:,0],output[k+1][:,1],c=colors[k],label=labels[k])\n",
        "    \n",
        "plt.scatter(centroids[0,:],\n",
        "            centroids[1,:],\n",
        "            s=10,\n",
        "            c='black',\n",
        "            label='centroids')\n",
        "\n",
        "plt.legend()\n",
        "plt.show()"
      ],
      "execution_count": 46,
      "outputs": [
        {
          "output_type": "display_data",
          "data": {
            "image/png": "[encoded data removed]",
            "text/plain": [
              "<Figure size 432x288 with 1 Axes>"
            ]
          },
          "metadata": {
            "needs_background": "light"
          }
        }
      ]
    },
    {
      "cell_type": "markdown",
      "metadata": {
        "id": "g2jeDO1CtxoT"
      },
      "source": [
        "#EVALUASI"
      ]
    },
    {
      "cell_type": "code",
      "metadata": {
        "id": "lDEkm66jZ-8M"
      },
      "source": [
        "distortions = []\n",
        "inertias = []\n",
        "mapping1 = {}\n",
        "mapping2 = {}\n",
        "K = range(1, 10)\n",
        "\n",
        "for k in K:\n",
        "\t# BUILD MODEL\n",
        "\tkmeanModel = KMeans(n_clusters=k).fit(pca_data1)\n",
        "\tkmeanModel.fit(pca_data1)\n",
        "\n",
        "\tdistortions.append(sum(np.min(cdist(pca_data1, kmeanModel.cluster_centers_,\n",
        "\t\t\t\t\t\t\t\t\t\t'euclidean'), axis=1)) / pca_data1.shape[0])\n",
        "\tinertias.append(kmeanModel.inertia_)\n",
        "\n",
        "\tmapping1[k] = sum(np.min(cdist(pca_data1, kmeanModel.cluster_centers_,\n",
        "\t\t\t\t\t\t\t\t'euclidean'), axis=1)) / pca_data1.shape[0]\n",
        "\tmapping2[k] = kmeanModel.inertia_"
      ],
      "execution_count": 47,
      "outputs": []
    },
    {
      "cell_type": "code",
      "metadata": {
        "id": "ebE-mS4lhzHd",
        "colab": {
          "base_uri": "https://localhost:8080/"
        },
        "outputId": "62ccc658-d512-40fa-fa36-013db69aab01"
      },
      "source": [
        "for key, val in mapping1.items():\n",
        "\tprint(f'{key} : {val}')"
      ],
      "execution_count": 48,
      "outputs": [
        {
          "output_type": "stream",
          "name": "stdout",
          "text": [
            "1 : 0.8486191615823718\n",
            "2 : 0.5268286639933478\n",
            "3 : 0.3520606334125211\n",
            "4 : 0.17805177030685715\n",
            "5 : 0.14891003651624132\n",
            "6 : 0.123427441607417\n",
            "7 : 0.10248308412204019\n",
            "8 : 0.08917973981177027\n",
            "9 : 0.0706514988170395\n"
          ]
        }
      ]
    },
    {
      "cell_type": "code",
      "metadata": {
        "id": "i8k9em3xiYZF",
        "colab": {
          "base_uri": "https://localhost:8080/",
          "height": 294
        },
        "outputId": "63072bce-d023-4f16-a64f-760d9c60f65e"
      },
      "source": [
        "plt.plot(K, distortions, 'bx-')\n",
        "plt.title('ELBOW METHOD USING DISTORTIONS')\n",
        "plt.xlabel('Nilai dari K')\n",
        "plt.ylabel('Distortions')\n",
        "plt.show()"
      ],
      "execution_count": 49,
      "outputs": [
        {
          "output_type": "display_data",
          "data": {
            "image/png": "[encoded data removed]",
            "text/plain": [
              "<Figure size 432x288 with 1 Axes>"
            ]
          },
          "metadata": {
            "needs_background": "light"
          }
        }
      ]
    },
    {
      "cell_type": "code",
      "metadata": {
        "id": "tt78v8RVirX7"
      },
      "source": [
        ""
      ],
      "execution_count": 49,
      "outputs": []
    }
  ]
}